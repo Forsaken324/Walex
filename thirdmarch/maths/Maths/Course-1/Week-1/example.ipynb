{
 "cells": [
  {
   "cell_type": "code",
   "execution_count": 72,
   "id": "b05716b8-e356-46d4-9d0c-9370202dc54b",
   "metadata": {},
   "outputs": [],
   "source": [
    "import numpy as np"
   ]
  },
  {
   "cell_type": "code",
   "execution_count": 73,
   "id": "ef84b08c-763f-41ec-9474-92504d67a976",
   "metadata": {},
   "outputs": [],
   "source": [
    "# multiplying a vector with a scalar is also known as broadcasting"
   ]
  },
  {
   "cell_type": "code",
   "execution_count": 74,
   "id": "e062994c-d8d7-49a5-8d44-065bf4e53fd4",
   "metadata": {},
   "outputs": [],
   "source": [
    "vector = np.array([1,2])"
   ]
  },
  {
   "cell_type": "code",
   "execution_count": 75,
   "id": "543bc40d-9632-410b-8aa0-92be859ecbd6",
   "metadata": {},
   "outputs": [
    {
     "data": {
      "text/plain": [
       "array([10, 20])"
      ]
     },
     "execution_count": 75,
     "metadata": {},
     "output_type": "execute_result"
    }
   ],
   "source": [
    "vector * 10"
   ]
  },
  {
   "cell_type": "code",
   "execution_count": 76,
   "id": "4ed1a429-fb04-4ca6-878d-42ab4ad38e85",
   "metadata": {},
   "outputs": [],
   "source": [
    "# you can also slice numpy arrays as you slice python lists"
   ]
  },
  {
   "cell_type": "code",
   "execution_count": 77,
   "id": "33b0f4b5-36cb-4177-ac6b-ff3788568566",
   "metadata": {},
   "outputs": [
    {
     "ename": "SyntaxError",
     "evalue": "closing parenthesis ')' does not match opening parenthesis '[' (1254931200.py, line 2)",
     "output_type": "error",
     "traceback": [
      "  \u001b[36mCell\u001b[39m\u001b[36m \u001b[39m\u001b[32mIn[77]\u001b[39m\u001b[32m, line 2\u001b[39m\n\u001b[31m    \u001b[39m\u001b[31ma2 = np.array([[5,6],[7,8])\u001b[39m\n                              ^\n\u001b[31mSyntaxError\u001b[39m\u001b[31m:\u001b[39m closing parenthesis ')' does not match opening parenthesis '['\n"
     ]
    }
   ],
   "source": [
    "a1 = np.array([[1,2],[3,4]])\n",
    "a2 = np.array([[5,6],[7,8])"
   ]
  },
  {
   "cell_type": "code",
   "execution_count": null,
   "id": "157a3a4f-3202-4198-afeb-1525200ed127",
   "metadata": {},
   "outputs": [],
   "source": []
  },
  {
   "cell_type": "code",
   "execution_count": 78,
   "id": "72b7de1f-7129-4372-bb04-163c011192c4",
   "metadata": {},
   "outputs": [],
   "source": [
    "# you can stack numpy arrays on top of each other either vertically or horizontally to create\n",
    "# new arrays\n",
    "\n",
    "# vstack -> stacks vertically, hstack => stacks horizontally, hsplit -> splits an array into several smaller arrays\n",
    "\n",
    "\n",
    "a = np.array([[1,2],[3,4]])\n",
    "b = np.array([[5,6],[7,8]])\n",
    "\n",
    "# it takes a tuple of arrays\n"
   ]
  },
  {
   "cell_type": "code",
   "execution_count": 79,
   "id": "c782f947-c779-4c76-aad2-bddbe87f13df",
   "metadata": {},
   "outputs": [
    {
     "data": {
      "text/plain": [
       "array([[1, 2],\n",
       "       [3, 4],\n",
       "       [5, 6],\n",
       "       [7, 8]])"
      ]
     },
     "execution_count": 79,
     "metadata": {},
     "output_type": "execute_result"
    }
   ],
   "source": [
    "np.vstack((a,b))"
   ]
  },
  {
   "cell_type": "code",
   "execution_count": 80,
   "id": "3f21d1fc-b2de-4f4f-a28c-5a81b77afcbd",
   "metadata": {},
   "outputs": [
    {
     "data": {
      "text/plain": [
       "array([[1, 2, 5, 6],\n",
       "       [3, 4, 7, 8]])"
      ]
     },
     "execution_count": 80,
     "metadata": {},
     "output_type": "execute_result"
    }
   ],
   "source": [
    "np.hstack((a,b))\n"
   ]
  },
  {
   "cell_type": "code",
   "execution_count": 81,
   "id": "7af38f60-2d52-438e-8872-f6a08834e5a9",
   "metadata": {},
   "outputs": [
    {
     "data": {
      "text/plain": [
       "array([0., 0., 0.])"
      ]
     },
     "execution_count": 81,
     "metadata": {},
     "output_type": "execute_result"
    }
   ],
   "source": [
    "np.zeros(3)"
   ]
  },
  {
   "cell_type": "code",
   "execution_count": 82,
   "id": "cc782ce7-aa95-45d3-be23-7256a45d1883",
   "metadata": {},
   "outputs": [
    {
     "data": {
      "text/plain": [
       "array([0., 0., 0.])"
      ]
     },
     "execution_count": 82,
     "metadata": {},
     "output_type": "execute_result"
    }
   ],
   "source": [
    "np.empty(3)"
   ]
  },
  {
   "cell_type": "code",
   "execution_count": 83,
   "id": "a5edd979-54fd-49d9-a9e1-abde06e770c3",
   "metadata": {},
   "outputs": [],
   "source": [
    "# the task is to perform matrix operations on a system of linear equations"
   ]
  },
  {
   "cell_type": "code",
   "execution_count": 84,
   "id": "653e0954-da6e-4ca6-a166-fcf7c3f6afed",
   "metadata": {},
   "outputs": [],
   "source": [
    "A = np.array([\n",
    "    [-1, 3],\n",
    "    [3, 2]\n",
    "], dtype=np.dtype(float)) # A is our matrix"
   ]
  },
  {
   "cell_type": "code",
   "execution_count": 85,
   "id": "4c9234c9-410e-4653-8012-88c0ce11898a",
   "metadata": {},
   "outputs": [],
   "source": [
    "b = np.array([7, 1], dtype=np.dtype(float))"
   ]
  },
  {
   "cell_type": "code",
   "execution_count": 86,
   "id": "83e943d1-4915-472d-9037-76c028bbd649",
   "metadata": {},
   "outputs": [],
   "source": [
    "# you can evaluate the solution to a system of linear equations using the np.linalg.solve"
   ]
  },
  {
   "cell_type": "code",
   "execution_count": 87,
   "id": "dca26471-ae25-4165-ae70-8644bdd063c8",
   "metadata": {},
   "outputs": [],
   "source": [
    "x = np.linalg.solve(A, b)"
   ]
  },
  {
   "cell_type": "code",
   "execution_count": 88,
   "id": "e1e20736-016d-41d4-8693-f1f37396140f",
   "metadata": {},
   "outputs": [
    {
     "data": {
      "text/plain": [
       "array([-1.,  2.])"
      ]
     },
     "execution_count": 88,
     "metadata": {},
     "output_type": "execute_result"
    }
   ],
   "source": [
    "x"
   ]
  },
  {
   "cell_type": "code",
   "execution_count": 89,
   "id": "37b1435e-243d-4d72-bfa3-553f55a5b98c",
   "metadata": {},
   "outputs": [
    {
     "data": {
      "text/plain": [
       "np.float64(-11.000000000000002)"
      ]
     },
     "execution_count": 89,
     "metadata": {},
     "output_type": "execute_result"
    }
   ],
   "source": [
    "# you can get the determinant by using the .det of the linalg\n",
    "\n",
    "d = np.linalg.det(A)\n",
    "d\n"
   ]
  },
  {
   "cell_type": "code",
   "execution_count": 90,
   "id": "fe51c03a-369f-46ae-b9c8-06992f66f3e0",
   "metadata": {},
   "outputs": [],
   "source": [
    "# You can represent the system as a matrix and then perform row operations on it."
   ]
  },
  {
   "cell_type": "code",
   "execution_count": 91,
   "id": "2164e8b4-b0b2-4d43-8364-c367106f40ef",
   "metadata": {},
   "outputs": [],
   "source": [
    "A_system = np.hstack((A, b.reshape((2, 1)))) # in order for two arrays to be stacked, they have to be of the same dimension"
   ]
  },
  {
   "cell_type": "code",
   "execution_count": 92,
   "id": "29a67252-7298-4c80-9d62-09e815676260",
   "metadata": {},
   "outputs": [
    {
     "data": {
      "text/plain": [
       "array([[-1.,  3.,  7.],\n",
       "       [ 3.,  2.,  1.]])"
      ]
     },
     "execution_count": 92,
     "metadata": {},
     "output_type": "execute_result"
    }
   ],
   "source": [
    "A_system"
   ]
  },
  {
   "cell_type": "code",
   "execution_count": 93,
   "id": "9d40ac0c-34e7-483e-8a5a-c9a36706eb8f",
   "metadata": {},
   "outputs": [],
   "source": [
    "A_copy = A_system.copy()"
   ]
  },
  {
   "cell_type": "code",
   "execution_count": 94,
   "id": "d44ed51c-3cae-41c7-b46f-d4262e02b0b4",
   "metadata": {},
   "outputs": [],
   "source": [
    "# We want to perform row operation on the matrix"
   ]
  },
  {
   "cell_type": "code",
   "execution_count": 95,
   "id": "542fa3ea-c87a-4b65-8bdc-6c7220644237",
   "metadata": {},
   "outputs": [
    {
     "data": {
      "text/plain": [
       "array([[-1.,  3.,  7.],\n",
       "       [ 3.,  2.,  1.]])"
      ]
     },
     "execution_count": 95,
     "metadata": {},
     "output_type": "execute_result"
    }
   ],
   "source": [
    "A_copy"
   ]
  },
  {
   "cell_type": "code",
   "execution_count": 96,
   "id": "e3a3fd8f-f94b-4589-90a4-70160ef0e3f2",
   "metadata": {},
   "outputs": [],
   "source": [
    "# we want to replace the second row of the array with the first row multiplied by 3 plus itself"
   ]
  },
  {
   "cell_type": "code",
   "execution_count": 97,
   "id": "a9a06871-173c-4bef-a06c-58a3f49bcc89",
   "metadata": {},
   "outputs": [],
   "source": [
    "A_copy[1] = 3 * A_copy[0] + A_copy[1]"
   ]
  },
  {
   "cell_type": "code",
   "execution_count": 98,
   "id": "218fc42f-a3fc-48de-a004-f0d13f93ba68",
   "metadata": {},
   "outputs": [
    {
     "data": {
      "text/plain": [
       "array([[-1.,  3.,  7.],\n",
       "       [ 0., 11., 22.]])"
      ]
     },
     "execution_count": 98,
     "metadata": {},
     "output_type": "execute_result"
    }
   ],
   "source": [
    "A_copy"
   ]
  },
  {
   "cell_type": "code",
   "execution_count": 99,
   "id": "0c2b49c1-36e1-4f4a-8455-a9dc680563fc",
   "metadata": {},
   "outputs": [],
   "source": [
    "# now we want to divide r2 by the value of the element in the leading diagonal of the matrix\n",
    "\n",
    "A_copy[1] = 1/11 * A_copy[1]"
   ]
  },
  {
   "cell_type": "code",
   "execution_count": 100,
   "id": "a8705483-061e-4abd-ba30-5ffae337f90c",
   "metadata": {},
   "outputs": [
    {
     "data": {
      "text/plain": [
       "array([[-1.,  3.,  7.],\n",
       "       [ 0.,  1.,  2.]])"
      ]
     },
     "execution_count": 100,
     "metadata": {},
     "output_type": "execute_result"
    }
   ],
   "source": [
    "A_copy"
   ]
  },
  {
   "cell_type": "code",
   "execution_count": null,
   "id": "4d41395d-23cb-4dfe-a85e-7a1c6868a99c",
   "metadata": {},
   "outputs": [],
   "source": []
  },
  {
   "cell_type": "code",
   "execution_count": 102,
   "id": "e68b4ad2-aaf9-4729-8763-986ef57a6669",
   "metadata": {},
   "outputs": [],
   "source": [
    "# Graphical representation of the solution, study more on this"
   ]
  },
  {
   "cell_type": "code",
   "execution_count": 103,
   "id": "436afbd9-a18b-481f-99ce-ca0e7e6cee3d",
   "metadata": {},
   "outputs": [
    {
     "ename": "ValueError",
     "evalue": "setting an array element with a sequence. The requested array has an inhomogeneous shape after 1 dimensions. The detected shape was (2,) + inhomogeneous part.",
     "output_type": "error",
     "traceback": [
      "\u001b[31m---------------------------------------------------------------------------\u001b[39m",
      "\u001b[31mValueError\u001b[39m                                Traceback (most recent call last)",
      "\u001b[36mCell\u001b[39m\u001b[36m \u001b[39m\u001b[32mIn[103]\u001b[39m\u001b[32m, line 1\u001b[39m\n\u001b[32m----> \u001b[39m\u001b[32m1\u001b[39m A_2 = \u001b[43mnp\u001b[49m\u001b[43m.\u001b[49m\u001b[43marray\u001b[49m\u001b[43m(\u001b[49m\u001b[43m[\u001b[49m\n\u001b[32m      2\u001b[39m \u001b[43m    \u001b[49m\u001b[43m[\u001b[49m\u001b[43m-\u001b[49m\u001b[32;43m1\u001b[39;49m\u001b[43m,\u001b[49m\u001b[32;43m3\u001b[39;49m\u001b[43m]\u001b[49m\u001b[43m,\u001b[49m\n\u001b[32m      3\u001b[39m \u001b[43m    \u001b[49m\u001b[43m[\u001b[49m\u001b[32;43m3.\u001b[39;49m\u001b[43m-\u001b[49m\u001b[32;43m9\u001b[39;49m\u001b[43m]\u001b[49m\n\u001b[32m      4\u001b[39m \u001b[43m]\u001b[49m\u001b[43m,\u001b[49m\u001b[43mdtype\u001b[49m\u001b[43m=\u001b[49m\u001b[43mnp\u001b[49m\u001b[43m.\u001b[49m\u001b[43mdtype\u001b[49m\u001b[43m(\u001b[49m\u001b[38;5;28;43mfloat\u001b[39;49m\u001b[43m)\u001b[49m\u001b[43m)\u001b[49m\n\u001b[32m      6\u001b[39m np.linalg.det(A_2)\n",
      "\u001b[31mValueError\u001b[39m: setting an array element with a sequence. The requested array has an inhomogeneous shape after 1 dimensions. The detected shape was (2,) + inhomogeneous part."
     ]
    }
   ],
   "source": [
    "A_2 = np.array([\n",
    "    [-1,3],\n",
    "    [3.-9]\n",
    "],dtype=np.dtype(float))\n",
    "\n",
    "np.linalg.det(A_2)"
   ]
  },
  {
   "cell_type": "code",
   "execution_count": null,
   "id": "dfbca136-1447-4a79-9c01-f1a2656e05a3",
   "metadata": {},
   "outputs": [],
   "source": []
  }
 ],
 "metadata": {
  "kernelspec": {
   "display_name": "Python 3 (ipykernel)",
   "language": "python",
   "name": "python3"
  },
  "language_info": {
   "codemirror_mode": {
    "name": "ipython",
    "version": 3
   },
   "file_extension": ".py",
   "mimetype": "text/x-python",
   "name": "python",
   "nbconvert_exporter": "python",
   "pygments_lexer": "ipython3",
   "version": "3.12.6"
  }
 },
 "nbformat": 4,
 "nbformat_minor": 5
}
