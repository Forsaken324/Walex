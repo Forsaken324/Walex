{
 "cells": [
  {
   "cell_type": "code",
   "execution_count": 7,
   "id": "b05716b8-e356-46d4-9d0c-9370202dc54b",
   "metadata": {},
   "outputs": [],
   "source": [
    "import numpy as np"
   ]
  },
  {
   "cell_type": "code",
   "execution_count": 8,
   "id": "ef84b08c-763f-41ec-9474-92504d67a976",
   "metadata": {},
   "outputs": [],
   "source": [
    "# multiplying a vector with a scalar is also known as broadcasting"
   ]
  },
  {
   "cell_type": "code",
   "execution_count": 9,
   "id": "e062994c-d8d7-49a5-8d44-065bf4e53fd4",
   "metadata": {},
   "outputs": [],
   "source": [
    "vector = np.array([1,2])"
   ]
  },
  {
   "cell_type": "code",
   "execution_count": 10,
   "id": "543bc40d-9632-410b-8aa0-92be859ecbd6",
   "metadata": {},
   "outputs": [
    {
     "data": {
      "text/plain": [
       "array([10, 20])"
      ]
     },
     "execution_count": 10,
     "metadata": {},
     "output_type": "execute_result"
    }
   ],
   "source": [
    "vector * 10"
   ]
  },
  {
   "cell_type": "code",
   "execution_count": 11,
   "id": "4ed1a429-fb04-4ca6-878d-42ab4ad38e85",
   "metadata": {},
   "outputs": [],
   "source": [
    "# you can also slice numpy arrays as you slice python lists"
   ]
  },
  {
   "cell_type": "code",
   "execution_count": 13,
   "id": "33b0f4b5-36cb-4177-ac6b-ff3788568566",
   "metadata": {},
   "outputs": [],
   "source": [
    "a1 = np.array([[1,2],[3,4]])\n",
    "a2 = np.array([[5,6],[7,8])"
   ]
  },
  {
   "cell_type": "code",
   "execution_count": null,
   "id": "157a3a4f-3202-4198-afeb-1525200ed127",
   "metadata": {},
   "outputs": [],
   "source": []
  },
  {
   "cell_type": "code",
   "execution_count": 19,
   "id": "72b7de1f-7129-4372-bb04-163c011192c4",
   "metadata": {},
   "outputs": [],
   "source": [
    "# you can stack numpy arrays on top of each other either vertically or horizontally to create\n",
    "# new arrays\n",
    "\n",
    "# vstack -> stacks vertically, hstack => stacks horizontally, hsplit -> splits an array into several smaller arrays\n",
    "\n",
    "\n",
    "a = np.array([[1,2],[3,4]])\n",
    "b = np.array([[5,6],[7,8]])\n",
    "\n",
    "# it takes a tuple of arrays\n"
   ]
  },
  {
   "cell_type": "code",
   "execution_count": 20,
   "id": "c782f947-c779-4c76-aad2-bddbe87f13df",
   "metadata": {},
   "outputs": [
    {
     "data": {
      "text/plain": [
       "array([[1, 2],\n",
       "       [3, 4],\n",
       "       [5, 6],\n",
       "       [7, 8]])"
      ]
     },
     "execution_count": 20,
     "metadata": {},
     "output_type": "execute_result"
    }
   ],
   "source": [
    "np.vstack((a,b))"
   ]
  },
  {
   "cell_type": "code",
   "execution_count": 21,
   "id": "3f21d1fc-b2de-4f4f-a28c-5a81b77afcbd",
   "metadata": {},
   "outputs": [
    {
     "data": {
      "text/plain": [
       "array([[1, 2, 5, 6],\n",
       "       [3, 4, 7, 8]])"
      ]
     },
     "execution_count": 21,
     "metadata": {},
     "output_type": "execute_result"
    }
   ],
   "source": [
    "np.hstack((a,b))\n"
   ]
  },
  {
   "cell_type": "code",
   "execution_count": 25,
   "id": "7af38f60-2d52-438e-8872-f6a08834e5a9",
   "metadata": {},
   "outputs": [
    {
     "data": {
      "text/plain": [
       "array([0., 0., 0.])"
      ]
     },
     "execution_count": 25,
     "metadata": {},
     "output_type": "execute_result"
    }
   ],
   "source": [
    "np.zeros(3)"
   ]
  },
  {
   "cell_type": "code",
   "execution_count": 27,
   "id": "cc782ce7-aa95-45d3-be23-7256a45d1883",
   "metadata": {},
   "outputs": [
    {
     "data": {
      "text/plain": [
       "array([0., 0., 0.])"
      ]
     },
     "execution_count": 27,
     "metadata": {},
     "output_type": "execute_result"
    }
   ],
   "source": [
    "np.empty(3)"
   ]
  },
  {
   "cell_type": "code",
   "execution_count": 28,
   "id": "a5edd979-54fd-49d9-a9e1-abde06e770c3",
   "metadata": {},
   "outputs": [],
   "source": [
    "# the task is to perform matrix operations on a system of linear equations"
   ]
  },
  {
   "cell_type": "code",
   "execution_count": 29,
   "id": "83e943d1-4915-472d-9037-76c028bbd649",
   "metadata": {},
   "outputs": [],
   "source": [
    "# you can evaluate the solution to a system of linear equations using the np.linalg.solve"
   ]
  },
  {
   "cell_type": "code",
   "execution_count": null,
   "id": "dca26471-ae25-4165-ae70-8644bdd063c8",
   "metadata": {},
   "outputs": [],
   "source": [
    "x = np.linalg.d"
   ]
  }
 ],
 "metadata": {
  "kernelspec": {
   "display_name": "Python 3 (ipykernel)",
   "language": "python",
   "name": "python3"
  },
  "language_info": {
   "codemirror_mode": {
    "name": "ipython",
    "version": 3
   },
   "file_extension": ".py",
   "mimetype": "text/x-python",
   "name": "python",
   "nbconvert_exporter": "python",
   "pygments_lexer": "ipython3",
   "version": "3.12.6"
  }
 },
 "nbformat": 4,
 "nbformat_minor": 5
}
