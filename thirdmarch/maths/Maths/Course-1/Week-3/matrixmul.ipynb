{
 "cells": [
  {
   "cell_type": "markdown",
   "id": "b2b50d04-4169-4e09-a426-4544fe19d30e",
   "metadata": {},
   "source": [
    "# Matrix Multiplicaiton"
   ]
  },
  {
   "cell_type": "code",
   "execution_count": 41,
   "id": "5e385261-c636-485d-870f-26eb47154247",
   "metadata": {},
   "outputs": [],
   "source": [
    "import numpy as np"
   ]
  },
  {
   "cell_type": "code",
   "execution_count": 42,
   "id": "a60dfa8d-42a2-4f7f-b5bd-cf2b2cba73b0",
   "metadata": {},
   "outputs": [
    {
     "name": "stdout",
     "output_type": "stream",
     "text": [
      "Matrix A is a 3 by 3 matrix\n",
      "Matrix B is a 2 by 2 matrix\n"
     ]
    }
   ],
   "source": [
    "A = np.array([[4,9,9], [9, 1, 6], [9, 2, 3]])\n",
    "print(\"Matrix A is a 3 by 3 matrix\")\n",
    "\n",
    "B = np.array([[2,3], [5,7], [4,4]])\n",
    "print(\"Matrix B is a 2 by 2 matrix\")\n"
   ]
  },
  {
   "cell_type": "code",
   "execution_count": 43,
   "id": "84667e8e-57da-42ea-bec7-f39fb1e26903",
   "metadata": {},
   "outputs": [],
   "source": [
    "# dot product forms a single scalar, while multiplication forms a new matrix"
   ]
  },
  {
   "cell_type": "code",
   "execution_count": 44,
   "id": "dd720b79-432a-441b-a1a8-1db0c1636e5b",
   "metadata": {},
   "outputs": [
    {
     "data": {
      "text/plain": [
       "array([[ 89, 111],\n",
       "       [ 47,  58],\n",
       "       [ 40,  53]])"
      ]
     },
     "execution_count": 44,
     "metadata": {},
     "output_type": "execute_result"
    }
   ],
   "source": [
    "np.matmul(A, B)"
   ]
  },
  {
   "cell_type": "code",
   "execution_count": 45,
   "id": "9bcb40b1-f025-4578-9eb8-08255a0e5be4",
   "metadata": {},
   "outputs": [
    {
     "data": {
      "text/plain": [
       "array([[ 89, 111],\n",
       "       [ 47,  58],\n",
       "       [ 40,  53]])"
      ]
     },
     "execution_count": 45,
     "metadata": {},
     "output_type": "execute_result"
    }
   ],
   "source": [
    "A @ B"
   ]
  },
  {
   "cell_type": "code",
   "execution_count": 46,
   "id": "e04c0888-9519-4d10-a907-df488301ee64",
   "metadata": {},
   "outputs": [],
   "source": [
    "# when performing matrix multiplication AB, the number of rows in A has to equal the number of columns in B"
   ]
  },
  {
   "cell_type": "code",
   "execution_count": 47,
   "id": "99f6b89a-1e02-4eaa-a01e-96af07928b4a",
   "metadata": {},
   "outputs": [
    {
     "name": "stdout",
     "output_type": "stream",
     "text": [
      "matmul: Input operand 1 has a mismatch in its core dimension 0, with gufunc signature (n?,k),(k,m?)->(n?,m?) (size 3 is different from 2)\n"
     ]
    }
   ],
   "source": [
    "try:\n",
    "    B @ A\n",
    "except ValueError as err:\n",
    "    print(err)"
   ]
  },
  {
   "cell_type": "code",
   "execution_count": 48,
   "id": "db3a74db-adda-427f-b65c-74fca26542f9",
   "metadata": {},
   "outputs": [],
   "source": [
    "# reshaping in numpy"
   ]
  },
  {
   "cell_type": "code",
   "execution_count": 49,
   "id": "89db13d6-2ff6-4c6c-b43b-8b5d42175adc",
   "metadata": {},
   "outputs": [
    {
     "data": {
      "text/plain": [
       "1"
      ]
     },
     "execution_count": 49,
     "metadata": {},
     "output_type": "execute_result"
    }
   ],
   "source": [
    "x = np.array([1, -2, -5])\n",
    "y = np.array([4, 3, -1])\n",
    "x.ndim"
   ]
  },
  {
   "cell_type": "code",
   "execution_count": 50,
   "id": "e5429b3c-0be8-4fd3-b8ac-b2156d4aa14f",
   "metadata": {},
   "outputs": [],
   "source": [
    "# now we want to shape the matrix in such a way that they can be multiplied, how I would like to look at this is that\n",
    "# I can make one of them a column vector, that way one is horizontal and the other is vertical."
   ]
  },
  {
   "cell_type": "code",
   "execution_count": 57,
   "id": "4ffc9a69-6752-42a7-8c45-6d646fa2bb41",
   "metadata": {},
   "outputs": [
    {
     "data": {
      "text/plain": [
       "array([[ 4],\n",
       "       [ 3],\n",
       "       [-1]])"
      ]
     },
     "execution_count": 57,
     "metadata": {},
     "output_type": "execute_result"
    }
   ],
   "source": [
    "y_new = y.reshape(3, 1) # from this we can see that x has been turned into a column vector.\n",
    "y_new\n"
   ]
  },
  {
   "cell_type": "code",
   "execution_count": 58,
   "id": "cd1404a3-e1ec-46a3-adef-0713dadc30a8",
   "metadata": {},
   "outputs": [
    {
     "data": {
      "text/plain": [
       "array([ 4,  3, -1])"
      ]
     },
     "execution_count": 58,
     "metadata": {},
     "output_type": "execute_result"
    }
   ],
   "source": [
    "y"
   ]
  },
  {
   "cell_type": "code",
   "execution_count": 59,
   "id": "f1e71cb3-4fb4-4522-81de-dc771f98397b",
   "metadata": {},
   "outputs": [],
   "source": [
    "# now the number of rows equal the number of columns we can now find the product of the matrices"
   ]
  },
  {
   "cell_type": "code",
   "execution_count": 60,
   "id": "5f0bebf1-c7b8-4a00-ae59-4401399e02be",
   "metadata": {},
   "outputs": [
    {
     "data": {
      "text/plain": [
       "array([3])"
      ]
     },
     "execution_count": 60,
     "metadata": {},
     "output_type": "execute_result"
    }
   ],
   "source": [
    "np.matmul(x, y_new)"
   ]
  },
  {
   "cell_type": "code",
   "execution_count": 62,
   "id": "f56cb380-cbc1-4bb8-bbfa-1595db1a6cd8",
   "metadata": {},
   "outputs": [
    {
     "data": {
      "text/plain": [
       "array([3])"
      ]
     },
     "execution_count": 62,
     "metadata": {},
     "output_type": "execute_result"
    }
   ],
   "source": [
    "np.dot(x, y_new) # np dot also works for matrix multiplication"
   ]
  },
  {
   "cell_type": "markdown",
   "id": "cabfa2b6-8b64-4ee9-97e4-29733dc0f96a",
   "metadata": {},
   "source": [
    "# Broadcasting\n",
    "\n",
    "- Broadcasting is when numpy widens an operation to all rows and columns of a matrix/"
   ]
  },
  {
   "cell_type": "code",
   "execution_count": null,
   "id": "a6ecb390-64f4-4020-8069-65371ba4bbf0",
   "metadata": {},
   "outputs": [],
   "source": []
  }
 ],
 "metadata": {
  "kernelspec": {
   "display_name": "Python 3 (ipykernel)",
   "language": "python",
   "name": "python3"
  },
  "language_info": {
   "codemirror_mode": {
    "name": "ipython",
    "version": 3
   },
   "file_extension": ".py",
   "mimetype": "text/x-python",
   "name": "python",
   "nbconvert_exporter": "python",
   "pygments_lexer": "ipython3",
   "version": "3.12.6"
  }
 },
 "nbformat": 4,
 "nbformat_minor": 5
}
