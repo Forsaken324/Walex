{
 "cells": [
  {
   "cell_type": "markdown",
   "id": "96877d05-7ec4-46c9-92ee-e97474aa882c",
   "metadata": {},
   "source": [
    "# Linear Transformation"
   ]
  },
  {
   "cell_type": "code",
   "execution_count": 9,
   "id": "25cf40fd-02e8-457b-a89b-74ee4cd6259f",
   "metadata": {},
   "outputs": [],
   "source": [
    "import numpy as np\n",
    "import cv2"
   ]
  },
  {
   "cell_type": "code",
   "execution_count": 10,
   "id": "7ca7e341-1811-4af0-9654-ded84b0c91d4",
   "metadata": {},
   "outputs": [
    {
     "data": {
      "text/plain": [
       "array([[0.],\n",
       "       [0.],\n",
       "       [0.]])"
      ]
     },
     "execution_count": 10,
     "metadata": {},
     "output_type": "execute_result"
    }
   ],
   "source": [
    "np.zeros((3,1))"
   ]
  },
  {
   "cell_type": "markdown",
   "id": "827bd0ed-8ec9-4c5e-bd80-ff6f7c6898ae",
   "metadata": {},
   "source": [
    "# let us implement a linear transformation that transforms the matrix \n",
    "\n",
    "\n",
    "```\n",
    "[[4 , 3],\n",
    " [2 , 1]]\n",
    "```\n",
    "- we are going to use the standard basis of [0,1], [1,0], [1,1], [1, -1]\n"
   ]
  },
  {
   "cell_type": "code",
   "execution_count": 15,
   "id": "abd43192-dfd0-4296-b5fd-95cce5f3d800",
   "metadata": {},
   "outputs": [
    {
     "data": {
      "text/plain": [
       "array([3, 1])"
      ]
     },
     "execution_count": 15,
     "metadata": {},
     "output_type": "execute_result"
    }
   ],
   "source": [
    "def T(m):\n",
    "    w = np.array([0,1])\n",
    "    return m @ w\n",
    "\n",
    "m = np.array([[4, 3], [2, 1]])\n",
    "\n",
    "T(m)"
   ]
  },
  {
   "cell_type": "code",
   "execution_count": 16,
   "id": "3175084e-386a-4dce-9729-340b42c28ee1",
   "metadata": {},
   "outputs": [
    {
     "data": {
      "text/plain": [
       "2"
      ]
     },
     "execution_count": 16,
     "metadata": {},
     "output_type": "execute_result"
    }
   ],
   "source": [
    "x = np.zeros((3,1))\n",
    "x.ndim"
   ]
  },
  {
   "cell_type": "code",
   "execution_count": 18,
   "id": "c784584a-7519-46cf-b585-c8b16152bfdb",
   "metadata": {},
   "outputs": [
    {
     "data": {
      "text/plain": [
       "(3, 1)"
      ]
     },
     "execution_count": 18,
     "metadata": {},
     "output_type": "execute_result"
    }
   ],
   "source": [
    "x.shape"
   ]
  },
  {
   "cell_type": "code",
   "execution_count": null,
   "id": "aa920885-d5f0-405b-867a-0493558e2b4d",
   "metadata": {},
   "outputs": [],
   "source": []
  },
  {
   "cell_type": "code",
   "execution_count": null,
   "id": "664315da-dd3d-4153-82c8-4741dfea8c3d",
   "metadata": {},
   "outputs": [],
   "source": []
  }
 ],
 "metadata": {
  "kernelspec": {
   "display_name": "Python 3 (ipykernel)",
   "language": "python",
   "name": "python3"
  },
  "language_info": {
   "codemirror_mode": {
    "name": "ipython",
    "version": 3
   },
   "file_extension": ".py",
   "mimetype": "text/x-python",
   "name": "python",
   "nbconvert_exporter": "python",
   "pygments_lexer": "ipython3",
   "version": "3.12.6"
  }
 },
 "nbformat": 4,
 "nbformat_minor": 5
}
