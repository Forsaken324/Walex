{
 "cells": [
  {
   "cell_type": "code",
   "execution_count": 69,
   "id": "d25be47b-c08a-4a10-b0de-c64e3880116d",
   "metadata": {},
   "outputs": [],
   "source": [
    "import numpy as np"
   ]
  },
  {
   "cell_type": "code",
   "execution_count": 70,
   "id": "a283d18f-3ddd-4c76-a83f-ae13c55ff7fe",
   "metadata": {},
   "outputs": [],
   "source": [
    "import pandas as pd"
   ]
  },
  {
   "cell_type": "code",
   "execution_count": 71,
   "id": "24ad1648-ddc9-42f2-a9e3-07be4b149320",
   "metadata": {},
   "outputs": [],
   "source": [
    "import matplotlib.pyplot as plt"
   ]
  },
  {
   "cell_type": "markdown",
   "id": "a99474a8-a9c7-486f-8d32-e776d63464c2",
   "metadata": {},
   "source": [
    "# Assignment"
   ]
  },
  {
   "cell_type": "markdown",
   "id": "b21ad7af-f5e8-4bf9-981a-5f4dbba10bc7",
   "metadata": {},
   "source": [
    "- The goal is to write functions that performs elementary row operations on a given matrix, we would write a function to add the rows of that matrix, swap the rows of a matrix, and finally multiply a row by a scalar."
   ]
  },
  {
   "cell_type": "markdown",
   "id": "f1b60699-632d-4cb0-a466-03c4ba68bf46",
   "metadata": {},
   "source": [
    "<a name='1'></a>\n",
    "## 1 - System of Linear Equations and Corresponding `NumPy` Arrays\n",
    "\n",
    "Matrices can be used to solve systems of equations. But first, you need to represent the system using matrices. Given the following system of linear equations:\n",
    "\n",
    "$$\\begin{cases} \n",
    "2x_1-x_2+x_3+x_4=6, \\\\ x_1+2x_2-x_3-x_4=3, \\\\ -x_1+2x_2+2x_3+2x_4=14, \\\\ x_1-x_2+2x_3+x_4=8, \\end{cases}\\tag{1}$$\n",
    "\n",
    "you will construct matrix $A$, where each row represents one equation in the system and each column represents a variable $x_1$, $x_2$, $x_3$, $x_4$. The free coefficients from the right sides of the equations you will put into vector $b$."
   ]
  },
  {
   "cell_type": "code",
   "execution_count": 72,
   "id": "b3de83f9-6cda-49ea-ac63-40d3425d33a7",
   "metadata": {},
   "outputs": [],
   "source": [
    "A = np.array([     \n",
    "        [2, -1, 1, 1],\n",
    "        [1, 2, -1, -1],\n",
    "        [-1, 2, 2, 2],\n",
    "        [1, -1, 2, 1]    \n",
    "    ], dtype=np.dtype(float)) \n",
    "b = np.array([6, 3, 14, 8], dtype=np.dtype(float))"
   ]
  },
  {
   "cell_type": "code",
   "execution_count": 73,
   "id": "6d3a5080-d877-4b8d-a430-a1732115672c",
   "metadata": {},
   "outputs": [],
   "source": [
    "def MultiplyRow(M: np.ndarray, row_index: int, row_multiple: float) -> np.ndarray:\n",
    "    # we are going to copy the matrix so as to avoid editing the main matrix passed into it\n",
    "    M_copy = M.copy()\n",
    "    M_copy[row_index] = row_multiple * M_copy[row_index]\n",
    "    return M_copy"
   ]
  },
  {
   "cell_type": "code",
   "execution_count": 74,
   "id": "cb645338-b130-487f-885b-7fce1b3c9854",
   "metadata": {},
   "outputs": [],
   "source": [
    "def AddRows(M: np.ndarray, row_1_index: int, row_2_index: int, row_num_1_multiple: float) -> np.ndarray:\n",
    "    M_copy = M.copy()\n",
    "    M_copy[row_2_index] = row_num_1_multiple * M_copy[row_1_index] + M_copy[row_2_index]\n",
    "    return M_copy"
   ]
  },
  {
   "cell_type": "code",
   "execution_count": 75,
   "id": "b8c91d90-0338-4e94-89d2-33e45abf35c3",
   "metadata": {},
   "outputs": [],
   "source": [
    "def SwapRows(M: np.ndarray, row_1_index: int, row_2_index: int) -> np.ndarray:\n",
    "    M_copy = M.copy()\n",
    "    temp = M_copy[row_1_index].copy()\n",
    "    M_copy[row_1_index] = M_copy[row_2_index]\n",
    "    M_copy[row_2_index] = temp\n",
    "\n",
    "    return M_copy"
   ]
  },
  {
   "cell_type": "code",
   "execution_count": 76,
   "id": "eee9e4aa-c620-4612-b3ae-4bfb2a1ea27c",
   "metadata": {},
   "outputs": [],
   "source": [
    "def ScaleRow(M: np.ndarray, row_index: int, pivot_element: float) -> None:\n",
    "    M_new = M.copy()\n",
    "    M_new[row_index] = M_new[row_index] / pivot_element\n",
    "    return M_new[row_index]\n",
    "\n",
    "    "
   ]
  },
  {
   "cell_type": "code",
   "execution_count": 77,
   "id": "2abcb8df-2437-48d1-8ec3-611870549d63",
   "metadata": {},
   "outputs": [
    {
     "name": "stdout",
     "output_type": "stream",
     "text": [
      "Swapping rows\n",
      "[[ 2. -1.  1.  1.]\n",
      " [ 1.  2. -1. -1.]\n",
      " [ 1. -1.  2.  1.]\n",
      " [-1.  2.  2.  2.]]\n"
     ]
    }
   ],
   "source": [
    "print('Swapping rows')\n",
    "print(SwapRows(A, 2, 3))"
   ]
  },
  {
   "cell_type": "code",
   "execution_count": 78,
   "id": "813d11c9-0b24-490f-8ebc-b9a2247a84b5",
   "metadata": {},
   "outputs": [],
   "source": [
    "# my goal is now to use these new functions I have defined to perform elementary row operations on the given matrix, and\n",
    "# transform the matrix into reduced echelon form."
   ]
  },
  {
   "cell_type": "code",
   "execution_count": 79,
   "id": "08474a3b-ae88-4e59-84bc-a60bfbdbaf5b",
   "metadata": {},
   "outputs": [],
   "source": [
    "\n",
    "# first we want to create an augmented matrix by joining the coefficient of the matrix A with their respective constants"
   ]
  },
  {
   "cell_type": "code",
   "execution_count": 80,
   "id": "2b820d6e-9f6c-4418-924d-06df9cae3ab5",
   "metadata": {},
   "outputs": [
    {
     "data": {
      "text/plain": [
       "array([[ 2., -1.,  1.,  1.,  6.],\n",
       "       [ 1.,  2., -1., -1.,  3.],\n",
       "       [-1.,  2.,  2.,  2., 14.],\n",
       "       [ 1., -1.,  2.,  1.,  8.]])"
      ]
     },
     "execution_count": 80,
     "metadata": {},
     "output_type": "execute_result"
    }
   ],
   "source": [
    "augmented_matrix = np.hstack((A, b.reshape((4,1))))\n",
    "augmented_matrix"
   ]
  },
  {
   "cell_type": "code",
   "execution_count": 81,
   "id": "29c90d77-bb16-4324-930f-bc97f49eb3bb",
   "metadata": {},
   "outputs": [],
   "source": [
    "# next I am going to define a function that performs the elementary row operations on the matrix until it is reduced to its echelon form"
   ]
  },
  {
   "cell_type": "code",
   "execution_count": 114,
   "id": "2344556c-dac7-4fbe-a264-4f3931603f17",
   "metadata": {},
   "outputs": [],
   "source": [
    "def matrix_to_echelon(M: np.ndarray) -> np.ndarray:\n",
    "    M_new: np.ndarray = M.copy()\n",
    "\n",
    "    # what I would like to do is divide the first row by its first element, so that I can get a one as my pivot\n",
    "    pivot: int = M_new[0][0]\n",
    "    \n",
    "    M_new[0] = ScaleRow(M_new, 0, pivot)\n",
    "\n",
    "    # Eliminating the pivot in row 2 under the pivot in row 1, we would do this for the other rows of the matrix\n",
    "    M_new = AddRows(M_new, 0, 1, -1)\n",
    "\n",
    "    M_new = AddRows(M_new, 0, 2, 1)\n",
    "\n",
    "    M_new = AddRows(M_new, 0, 3, -1)\n",
    "\n",
    "    # Now, we would eliminate all the pivots in row 3 under the pivot in row 2, but lets scale row2 so that we have a 1 as the pivot\n",
    "\n",
    "    M_new[1] = ScaleRow(M_new, 1, M_new[1][1])\n",
    "\n",
    "    # continuing with addition operation\n",
    "\n",
    "    M_new = AddRows(M_new, 1, 2, -1.5)\n",
    "\n",
    "    M_new = AddRows(M_new, 1, 3, 0.5)\n",
    "\n",
    "    # We scale r3 by its pivot\n",
    "\n",
    "    M_new[2] = ScaleRow(M_new, 2, M_new[2][2])\n",
    "\n",
    "    # continuing with the addition operation\n",
    "\n",
    "    M_new = AddRows(M_new, 2, 3, -1.2)\n",
    "\n",
    "    # we can leave it at this because the matrix is already in echelon form, but we want 1 as the pivot so we scale the fourth row by its pivot\n",
    "\n",
    "    M_new[3] = ScaleRow(M_new, 3, M_new[3][3])\n",
    "\n",
    "    return M_new\n",
    "\n",
    "A_ref = matrix_to_echelon(augmented_matrix)"
   ]
  },
  {
   "cell_type": "code",
   "execution_count": 116,
   "id": "4541172f-9cec-4e65-9b1b-711ded74b14c",
   "metadata": {},
   "outputs": [
    {
     "data": {
      "text/plain": [
       "array([[ 1. , -0.5,  0.5,  0.5,  3. ],\n",
       "       [ 0. ,  1. , -0.6, -0.6,  0. ],\n",
       "       [ 0. ,  0. ,  1. ,  1. ,  5. ],\n",
       "       [-0. , -0. , -0. ,  1. ,  1. ]])"
      ]
     },
     "execution_count": 116,
     "metadata": {},
     "output_type": "execute_result"
    }
   ],
   "source": [
    "A_ref"
   ]
  },
  {
   "cell_type": "markdown",
   "id": "c07accb5-6419-4519-9900-e9de9a732df5",
   "metadata": {},
   "source": [
    "<a name='ex05'></a>\n",
    "### Exercise 5\n",
    "\n",
    "From the last line of the reduced matrix `A_ref` find $x_4$. Then you can calculate each of the $x_3$, $x_2$ and $x_1$ taking the elements of the matrix `A_ref[i,j]` and solving the linear equations one by one."
   ]
  },
  {
   "cell_type": "code",
   "execution_count": 123,
   "id": "a0317808-ea5a-40b1-992b-470355440503",
   "metadata": {},
   "outputs": [
    {
     "name": "stdout",
     "output_type": "stream",
     "text": [
      "2.0 3.0 4.0 1\n"
     ]
    }
   ],
   "source": [
    "x4 = 1\n",
    "x3 = A_ref[2,4] - A_ref[2,3] * x4\n",
    "x2 = A_ref[1,4] - A_ref[1,3] * x4 - A_ref[1,2] * x3\n",
    "x1 = A_ref[0,4] - A_ref[0,3] * x4 - A_ref[0,2] * x3 - A_ref[0,1] * x2\n",
    "\n",
    "print(x1, x2, x3, x4)"
   ]
  },
  {
   "cell_type": "markdown",
   "id": "9ad1c16d-644e-4ea6-9bda-26c224541315",
   "metadata": {},
   "source": [
    "<a name='ex06'></a>\n",
    "### Exercise 6\n",
    "\n",
    "Using the same elementary operations as above you can reduce the matrix further to diagonal form, from which you can see the solutions easily."
   ]
  },
  {
   "cell_type": "code",
   "execution_count": 138,
   "id": "c07967c2-5378-41ce-b22f-c7b731ac5c79",
   "metadata": {},
   "outputs": [],
   "source": [
    "def echelon_to_reduced_echelon(M: np.ndarray) -> np.ndarray:\n",
    "    M_new = M.copy()\n",
    "\n",
    "    M_new = AddRows(M_new, 3, 0, -0.5)\n",
    "    M_new = AddRows(M_new, 3, 1, 0.6)\n",
    "    M_new = AddRows(M_new, 3, 2, -1)\n",
    "    M_new = AddRows(M_new, 2, 0, -0.5)\n",
    "    M_new = AddRows(M_new, 2, 1, 0.6)\n",
    "    M_new = AddRows(M_new, 1, 0, 0.5)\n",
    "\n",
    "    return M_new"
   ]
  },
  {
   "cell_type": "code",
   "execution_count": 139,
   "id": "163daf90-6de6-4033-a52f-6a70b54ed8cf",
   "metadata": {},
   "outputs": [
    {
     "data": {
      "text/plain": [
       "array([[ 1.,  0.,  0.,  0.,  2.],\n",
       "       [ 0.,  1.,  0.,  0.,  3.],\n",
       "       [ 0.,  0.,  1.,  0.,  4.],\n",
       "       [-0., -0., -0.,  1.,  1.]])"
      ]
     },
     "execution_count": 139,
     "metadata": {},
     "output_type": "execute_result"
    }
   ],
   "source": [
    "reduced_echelon = echelon_to_reduced_echelon(A_ref)\n",
    "reduced_echelon"
   ]
  },
  {
   "cell_type": "markdown",
   "id": "b8f70d49-538b-43d3-94b5-2160d6a90848",
   "metadata": {},
   "source": [
    "- From this, we can deduce that the matrix has a rank of 4, and it is linearly independent, and it is non-singular"
   ]
  },
  {
   "cell_type": "code",
   "execution_count": 140,
   "id": "31238751-452d-49db-801c-20639f10a517",
   "metadata": {},
   "outputs": [],
   "source": [
    "# when performing row operations on matrices, you have to be careful, so as not to run into errors in your program"
   ]
  },
  {
   "cell_type": "code",
   "execution_count": null,
   "id": "ae2a7780-37c6-4df3-b102-40e05daf2812",
   "metadata": {},
   "outputs": [],
   "source": []
  }
 ],
 "metadata": {
  "kernelspec": {
   "display_name": "Python 3 (ipykernel)",
   "language": "python",
   "name": "python3"
  },
  "language_info": {
   "codemirror_mode": {
    "name": "ipython",
    "version": 3
   },
   "file_extension": ".py",
   "mimetype": "text/x-python",
   "name": "python",
   "nbconvert_exporter": "python",
   "pygments_lexer": "ipython3",
   "version": "3.12.6"
  }
 },
 "nbformat": 4,
 "nbformat_minor": 5
}
